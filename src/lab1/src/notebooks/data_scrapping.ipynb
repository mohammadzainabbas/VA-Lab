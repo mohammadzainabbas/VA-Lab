{
 "cells": [
  {
   "cell_type": "markdown",
   "id": "9618310d",
   "metadata": {},
   "source": [
    "# Web Scraping Tutorial\n",
    "\n",
    "This tutorial will teach you how to use Python to scrap and extract data from a web page. We will use two packages, `requests` to scrap the webpage and `BeautifulSoup` to extract the data.\n",
    "\n",
    "Many good references on web scraping are available online. I would recommend the following resources:\n",
    "1. Automate Boring Stuff with Python by Al Sweigart (2020) has a chapter on Web Scraping tutorial, which can be read [online](https://automatetheboringstuff.com/2e/chapter12/).\n",
    "2. Web Scraping With Python by Ryan Mitchell (2018) is a bit old book but provides a comprehensive guide to the topic."
   ]
  },
  {
   "cell_type": "markdown",
   "id": "cc5ed654",
   "metadata": {},
   "source": [
    "## Step 0: Getting to know the web page\n",
    "\n",
    "In this tutorial, we will try to extract the cryptocurrency market prices from the CoinGecko website https://www.coingecko.com/.\n",
    "\n",
    "Your first step should always be to familiarize yourself with the website you want to scrape. Take a look at the website and try to inspect the HTML elements on the webpage."
   ]
  },
  {
   "cell_type": "markdown",
   "id": "d17dfa0c",
   "metadata": {},
   "source": [
    "## Step 1: Scrap a web page\n",
    "\n",
    "Now, we are ready to scrap a webpage we want to get the data from with the `requests` package. We will use the following functions:\n",
    "\n",
    "* `requests.get('URL')` - make a request to the specified URL\n",
    "* `r.status_code` - get the status code of the request\n",
    "* `r.content` - get the binary content of the page\n",
    "\n",
    "More functions in the `requests` package are available in [its documentation](https://requests.readthedocs.io/en/latest/)."
   ]
  },
  {
   "cell_type": "code",
   "execution_count": 45,
   "id": "0d4756eb",
   "metadata": {},
   "outputs": [],
   "source": [
    "# First, we will import the requests package\n",
    "import requests\n",
    "\n",
    "from os.path import join, exists, isfile, isdir, abspath, dirname, basename, realpath\n",
    "from os import makedirs, listdir, pardir, getcwd\n",
    "\n",
    "from IPython.core.interactiveshell import InteractiveShell\n",
    "InteractiveShell.ast_node_interactivity = \"all\""
   ]
  },
  {
   "cell_type": "code",
   "execution_count": 46,
   "id": "8c087ccf",
   "metadata": {},
   "outputs": [],
   "source": [
    "parent_dir = abspath(join(join(getcwd(), pardir), pardir))\n",
    "data_dir = join(parent_dir, 'data')\n",
    "html_file = join(data_dir, 'coin_gecko.html')"
   ]
  },
  {
   "cell_type": "code",
   "execution_count": 4,
   "id": "8c15921a",
   "metadata": {},
   "outputs": [
    {
     "data": {
      "text/plain": [
       "<Response [200]>"
      ]
     },
     "execution_count": 4,
     "metadata": {},
     "output_type": "execute_result"
    }
   ],
   "source": [
    "# Request the webpage\n",
    "url = \"https://www.coingecko.com\"\n",
    "res = requests.get(url=url)"
   ]
  },
  {
   "cell_type": "code",
   "execution_count": 8,
   "id": "04ba2a22",
   "metadata": {},
   "outputs": [
    {
     "data": {
      "text/plain": [
       "requests.models.Response"
      ]
     },
     "execution_count": 8,
     "metadata": {},
     "output_type": "execute_result"
    }
   ],
   "source": [
    "# Type of the request we've got\n",
    "type(res)"
   ]
  },
  {
   "cell_type": "code",
   "execution_count": 29,
   "id": "3cb0b645",
   "metadata": {},
   "outputs": [
    {
     "data": {
      "text/plain": [
       "True"
      ]
     },
     "execution_count": 29,
     "metadata": {},
     "output_type": "execute_result"
    }
   ],
   "source": [
    "# Check the status code\n",
    "res.status_code == requests.codes.ok"
   ]
  },
  {
   "cell_type": "code",
   "execution_count": 30,
   "id": "74151d99",
   "metadata": {},
   "outputs": [
    {
     "data": {
      "text/plain": [
       "'text/html; charset=utf-8'"
      ]
     },
     "execution_count": 30,
     "metadata": {},
     "output_type": "execute_result"
    }
   ],
   "source": [
    "# Get the header of the web page\n",
    "res.headers['content-type']"
   ]
  },
  {
   "cell_type": "code",
   "execution_count": 12,
   "id": "63b8bf8d",
   "metadata": {},
   "outputs": [
    {
     "data": {
      "text/plain": [
       "b'<!DOCTYPE html>\\n<html lang=\"en\">\\n<head>\\n<script src=\"/cdn-cgi/apps/head/gYtXOyllgyP3-Z2iKTP8rRWGBm4.'"
      ]
     },
     "execution_count": 12,
     "metadata": {},
     "output_type": "execute_result"
    }
   ],
   "source": [
    "# Get the content of the web page\n",
    "res.content[:100]"
   ]
  },
  {
   "cell_type": "code",
   "execution_count": 47,
   "id": "5938e1df",
   "metadata": {},
   "outputs": [
    {
     "data": {
      "text/plain": [
       "1329426"
      ]
     },
     "execution_count": 47,
     "metadata": {},
     "output_type": "execute_result"
    }
   ],
   "source": [
    "# Save the content of web page to the local drive\n",
    "with open(html_file, \"w\") as f:\n",
    "    f.write(res.text)"
   ]
  },
  {
   "cell_type": "markdown",
   "id": "130d01f8",
   "metadata": {},
   "source": [
    "## Step 2: Extract data from the web page\n",
    "\n",
    "After we crawled the web page and download it to the local disk, we will use `BeautifulSoup` package to parse HTML file and access the content. We will use the following functions:\n",
    "\n",
    "**1. Load the web page to BeautifulSoup**\n",
    "* `soup = BeautifulSoup(html_doc, 'html.parser')` - parse the HTML content to BeautifulSoup object\n",
    "\n",
    "**2. Get the content of the element**\n",
    "* `soup.title` - get the title of the page\n",
    "* `soup.title.string` - get the string in the title tag\n",
    "* `soup.h1` - get the H1 element in the web page\n",
    "* `soup.h1.attrs` - get all attributes in the H1 element\n",
    "* `soup.h1['class']` - get the class attribute in the H1 element\n",
    "\n",
    "**3. Look for the element in the web page**\n",
    "* `soup.find('HTML_tag')` - get the element from an HTML tag\n",
    "* `soup.find_all('HTML_tag')` - get the list of elelemts that has the specified HTML tag\n",
    "* `soup.select('CSS_selector')` - get the list of elements with the specified [CSS selector](https://www.w3schools.com/cssref/css_selectors.asp)"
   ]
  },
  {
   "cell_type": "code",
   "execution_count": 14,
   "id": "8b2eef79",
   "metadata": {},
   "outputs": [],
   "source": [
    "# First, we will import the BeautifulSoup from bs4 package\n",
    "from bs4 import BeautifulSoup"
   ]
  },
  {
   "cell_type": "code",
   "execution_count": 48,
   "id": "29460bba",
   "metadata": {},
   "outputs": [],
   "source": [
    "# Load the web page and parse it to BeautifulSoup\n",
    "with open(html_file, \"r\", encoding=\"utf-8\") as f:\n",
    "    soup = BeautifulSoup(f, \"html.parser\")"
   ]
  },
  {
   "cell_type": "code",
   "execution_count": 16,
   "id": "c9f7ab9a",
   "metadata": {},
   "outputs": [
    {
     "data": {
      "text/plain": [
       "bs4.BeautifulSoup"
      ]
     },
     "execution_count": 16,
     "metadata": {},
     "output_type": "execute_result"
    }
   ],
   "source": [
    "# Check the type of our soup object\n",
    "type(soup)"
   ]
  },
  {
   "cell_type": "code",
   "execution_count": 24,
   "id": "9ee1f8e4",
   "metadata": {},
   "outputs": [
    {
     "data": {
      "text/plain": [
       "'Cryptocurrency Prices, Charts, and Crypto Market Cap | CoinGeckoThis website uses cookies for functionality, analytics and advertising purposes as described in our Privacy Policy. If you agree to our use of cookies, please continue to use our site.OKContinue in appTrack prices in real-timeOpen AppContinue in appTrack prices in real-timeOpen AppEN LanguageEnglishDeutschEspañolFrançaisItalianojęzyk polskiLimba românăMagyar nyelvNederlandsPortuguêsSvenskaTiếng việtTürkçeРусский日本語简体中文繁體中文한국어العربي'"
      ]
     },
     "execution_count": 24,
     "metadata": {},
     "output_type": "execute_result"
    }
   ],
   "source": [
    "# Get all text in the web page\n",
    "soup.get_text().strip().replace(\"\\n\", \"\")[:500]"
   ]
  },
  {
   "cell_type": "code",
   "execution_count": 20,
   "id": "ae45ff28",
   "metadata": {},
   "outputs": [
    {
     "data": {
      "text/plain": [
       "<title>Cryptocurrency Prices, Charts, and Crypto Market Cap | CoinGecko</title>"
      ]
     },
     "execution_count": 20,
     "metadata": {},
     "output_type": "execute_result"
    }
   ],
   "source": [
    "# Get the title of the page\n",
    "soup.title"
   ]
  },
  {
   "cell_type": "code",
   "execution_count": 27,
   "id": "93b83b64",
   "metadata": {},
   "outputs": [
    {
     "data": {
      "text/plain": [
       "'Cryptocurrency Prices by Market Cap'"
      ]
     },
     "execution_count": 27,
     "metadata": {},
     "output_type": "execute_result"
    }
   ],
   "source": [
    "soup.h1.text.strip()"
   ]
  },
  {
   "cell_type": "code",
   "execution_count": 25,
   "id": "d370ecc0",
   "metadata": {},
   "outputs": [
    {
     "data": {
      "text/plain": [
       "<title>Cryptocurrency Prices, Charts, and Crypto Market Cap | CoinGecko</title>"
      ]
     },
     "execution_count": 25,
     "metadata": {},
     "output_type": "execute_result"
    }
   ],
   "source": [
    "# We can also get the page title using soup.find() function\n",
    "soup.find(\"title\")"
   ]
  },
  {
   "cell_type": "code",
   "execution_count": 35,
   "id": "de57945f",
   "metadata": {},
   "outputs": [
    {
     "name": "stdout",
     "output_type": "stream",
     "text": [
      "Total 1 H1 tags\n",
      "Total 4 H2 tags\n",
      "Total 3 H3 tags\n",
      "Total 0 H4 tags\n",
      "Total 2 H5 tags\n"
     ]
    }
   ],
   "source": [
    "# Other HTML tags also work too\n",
    "for i in range(1, 6):\n",
    "    print(f\"Total {len(soup.find_all(f'h{i}'))} H{i} tags\")"
   ]
  },
  {
   "cell_type": "markdown",
   "id": "07d1fcbf",
   "metadata": {},
   "source": [
    "Now, we will extract the cryptocurrencies market price from the table."
   ]
  },
  {
   "cell_type": "code",
   "execution_count": 37,
   "id": "8e54b736",
   "metadata": {},
   "outputs": [
    {
     "data": {
      "text/plain": [
       "bs4.element.Tag"
      ]
     },
     "execution_count": 37,
     "metadata": {},
     "output_type": "execute_result"
    }
   ],
   "source": [
    "# Get the table element in the web page\n",
    "table = soup.find(\"table\", attrs={\"class\": \"table\"})\n",
    "type(table)"
   ]
  },
  {
   "cell_type": "code",
   "execution_count": 44,
   "id": "69ee70a8",
   "metadata": {},
   "outputs": [
    {
     "data": {
      "text/plain": [
       "['',\n",
       " '#',\n",
       " 'Coin',\n",
       " 'Price',\n",
       " '1h',\n",
       " '24h',\n",
       " '7d',\n",
       " '24h Volume',\n",
       " 'Mkt Cap',\n",
       " 'FDV',\n",
       " 'Last 7 Days']"
      ]
     },
     "execution_count": 44,
     "metadata": {},
     "output_type": "execute_result"
    }
   ],
   "source": [
    "# Get the table headers\n",
    "[x.text.strip() for x in table.thead.find_all(\"th\")]"
   ]
  },
  {
   "cell_type": "code",
   "execution_count": 53,
   "id": "4b8733fe",
   "metadata": {},
   "outputs": [
    {
     "data": {
      "text/plain": [
       "101"
      ]
     },
     "execution_count": 53,
     "metadata": {},
     "output_type": "execute_result"
    },
    {
     "data": {
      "text/plain": [
       "101"
      ]
     },
     "execution_count": 53,
     "metadata": {},
     "output_type": "execute_result"
    },
    {
     "data": {
      "text/plain": [
       "101"
      ]
     },
     "execution_count": 53,
     "metadata": {},
     "output_type": "execute_result"
    },
    {
     "data": {
      "text/plain": [
       "[[],\n",
       " ['',\n",
       "  '1',\n",
       "  'Bitcoin\\n\\n\\nBTC',\n",
       "  '$19,914.09',\n",
       "  '0.0%',\n",
       "  '3.7%',\n",
       "  '3.6%',\n",
       "  '$27,068,124,639',\n",
       "  '$382,219,128,162',\n",
       "  '$418,733,988,129',\n",
       "  ''],\n",
       " ['',\n",
       "  '2',\n",
       "  'Ethereum\\n\\n\\nETH',\n",
       "  '$1,347.54',\n",
       "  '0.1%',\n",
       "  '4.3%',\n",
       "  '0.9%',\n",
       "  '$8,846,089,254',\n",
       "  '$162,810,730,982',\n",
       "  '?',\n",
       "  ''],\n",
       " ['',\n",
       "  '3',\n",
       "  'Tether\\n\\n\\nUSDT',\n",
       "  '$0.999061',\n",
       "  '-0.0%',\n",
       "  '-0.1%',\n",
       "  '-0.2%',\n",
       "  '$31,670,303,985',\n",
       "  '$67,885,610,166',\n",
       "  '?',\n",
       "  ''],\n",
       " ['',\n",
       "  '4',\n",
       "  'BNB\\n\\n\\nBNB',\n",
       "  '$290.49',\n",
       "  '0.3%',\n",
       "  '1.8%',\n",
       "  '5.4%',\n",
       "  '$570,182,494',\n",
       "  '$47,450,255,431',\n",
       "  '$47,984,919,219',\n",
       "  '']]"
      ]
     },
     "execution_count": 53,
     "metadata": {},
     "output_type": "execute_result"
    }
   ],
   "source": [
    "# If there are > 1 elements that match the tagged, \n",
    "# use soup.find_all() to retrieve all of them as a list.\n",
    "rows = [x for x in table.find_all(\"tr\")]\n",
    "cols = [x.find_all(\"td\") for x in rows]\n",
    "data = [[x.text.strip() for x in y] for y in cols]\n",
    "len(rows)\n",
    "len(cols)\n",
    "len(data)\n",
    "data[:5]"
   ]
  },
  {
   "cell_type": "code",
   "execution_count": null,
   "id": "fe697d4c",
   "metadata": {},
   "outputs": [],
   "source": [
    "# Iterate over rows and get the data for each coin\n"
   ]
  },
  {
   "cell_type": "markdown",
   "id": "e726f336",
   "metadata": {},
   "source": [
    "## Step 3: Create data table and save as CSV file\n",
    "\n",
    "Let's wrap our data table as the pandas's DataFrame and save it as a CSV file."
   ]
  },
  {
   "cell_type": "code",
   "execution_count": null,
   "id": "a1d9d07c",
   "metadata": {},
   "outputs": [],
   "source": [
    "import pandas as pd"
   ]
  },
  {
   "cell_type": "code",
   "execution_count": null,
   "id": "afe0f2a9",
   "metadata": {},
   "outputs": [],
   "source": []
  }
 ],
 "metadata": {
  "kernelspec": {
   "display_name": "Python 3.9.13 ('visual_analysis')",
   "language": "python",
   "name": "python3"
  },
  "language_info": {
   "codemirror_mode": {
    "name": "ipython",
    "version": 3
   },
   "file_extension": ".py",
   "mimetype": "text/x-python",
   "name": "python",
   "nbconvert_exporter": "python",
   "pygments_lexer": "ipython3",
   "version": "3.9.13"
  },
  "vscode": {
   "interpreter": {
    "hash": "ae8dc205f4db5a1defeb3d03690316e6259ab9b9aea5e5b1523f70f76f6035e9"
   }
  }
 },
 "nbformat": 4,
 "nbformat_minor": 5
}
