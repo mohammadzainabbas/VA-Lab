{
 "cells": [
  {
   "cell_type": "markdown",
   "id": "9618310d",
   "metadata": {},
   "source": [
    "# Web Scraping Tutorial\n",
    "\n",
    "This tutorial will teach you how to use Python to scrap and extract data from a web page. We will use two packages, `requests` to scrap the webpage and `BeautifulSoup` to extract the data.\n",
    "\n",
    "Many good references on web scraping are available online. I would recommend the following resources:\n",
    "1. Automate Boring Stuff with Python by Al Sweigart (2020) has a chapter on Web Scraping tutorial, which can be read [online](https://automatetheboringstuff.com/2e/chapter12/).\n",
    "2. Web Scraping With Python by Ryan Mitchell (2018) is a bit old book but provides a comprehensive guide to the topic."
   ]
  },
  {
   "cell_type": "markdown",
   "id": "cc5ed654",
   "metadata": {},
   "source": [
    "## Step 0: Getting to know the web page\n",
    "\n",
    "In this tutorial, we will try to extract the cryptocurrency market prices from the CoinGecko website https://www.coingecko.com/.\n",
    "\n",
    "Your first step should always be to familiarize yourself with the website you want to scrape. Take a look at the website and try to inspect the HTML elements on the webpage."
   ]
  },
  {
   "cell_type": "markdown",
   "id": "d17dfa0c",
   "metadata": {},
   "source": [
    "## Step 1: Scrap a web page\n",
    "\n",
    "Now, we are ready to scrap a webpage we want to get the data from with the `requests` package. We will use the following functions:\n",
    "\n",
    "* `requests.get('URL')` - make a request to the specified URL\n",
    "* `r.status_code` - get the status code of the request\n",
    "* `r.content` - get the binary content of the page\n",
    "\n",
    "More functions in the `requests` package are available in [its documentation](https://requests.readthedocs.io/en/latest/)."
   ]
  },
  {
   "cell_type": "code",
   "execution_count": 69,
   "id": "0d4756eb",
   "metadata": {},
   "outputs": [],
   "source": [
    "# First, we will import the requests package\n",
    "import requests\n",
    "\n",
    "from os.path import join, exists, isfile, isdir, abspath, dirname, basename, realpath\n",
    "from os import makedirs, listdir, pardir, getcwd\n",
    "\n",
    "import re\n",
    "\n",
    "from IPython.core.interactiveshell import InteractiveShell\n",
    "InteractiveShell.ast_node_interactivity = \"all\""
   ]
  },
  {
   "cell_type": "code",
   "execution_count": 46,
   "id": "8c087ccf",
   "metadata": {},
   "outputs": [],
   "source": [
    "parent_dir = abspath(join(join(getcwd(), pardir), pardir))\n",
    "data_dir = join(parent_dir, 'data')\n",
    "html_file = join(data_dir, 'coin_gecko.html')"
   ]
  },
  {
   "cell_type": "code",
   "execution_count": 4,
   "id": "8c15921a",
   "metadata": {},
   "outputs": [
    {
     "data": {
      "text/plain": [
       "<Response [200]>"
      ]
     },
     "execution_count": 4,
     "metadata": {},
     "output_type": "execute_result"
    }
   ],
   "source": [
    "# Request the webpage\n",
    "url = \"https://www.coingecko.com\"\n",
    "res = requests.get(url=url)"
   ]
  },
  {
   "cell_type": "code",
   "execution_count": 8,
   "id": "04ba2a22",
   "metadata": {},
   "outputs": [
    {
     "data": {
      "text/plain": [
       "requests.models.Response"
      ]
     },
     "execution_count": 8,
     "metadata": {},
     "output_type": "execute_result"
    }
   ],
   "source": [
    "# Type of the request we've got\n",
    "type(res)"
   ]
  },
  {
   "cell_type": "code",
   "execution_count": 29,
   "id": "3cb0b645",
   "metadata": {},
   "outputs": [
    {
     "data": {
      "text/plain": [
       "True"
      ]
     },
     "execution_count": 29,
     "metadata": {},
     "output_type": "execute_result"
    }
   ],
   "source": [
    "# Check the status code\n",
    "res.status_code == requests.codes.ok"
   ]
  },
  {
   "cell_type": "code",
   "execution_count": 30,
   "id": "74151d99",
   "metadata": {},
   "outputs": [
    {
     "data": {
      "text/plain": [
       "'text/html; charset=utf-8'"
      ]
     },
     "execution_count": 30,
     "metadata": {},
     "output_type": "execute_result"
    }
   ],
   "source": [
    "# Get the header of the web page\n",
    "res.headers['content-type']"
   ]
  },
  {
   "cell_type": "code",
   "execution_count": 12,
   "id": "63b8bf8d",
   "metadata": {},
   "outputs": [
    {
     "data": {
      "text/plain": [
       "b'<!DOCTYPE html>\\n<html lang=\"en\">\\n<head>\\n<script src=\"/cdn-cgi/apps/head/gYtXOyllgyP3-Z2iKTP8rRWGBm4.'"
      ]
     },
     "execution_count": 12,
     "metadata": {},
     "output_type": "execute_result"
    }
   ],
   "source": [
    "# Get the content of the web page\n",
    "res.content[:100]"
   ]
  },
  {
   "cell_type": "code",
   "execution_count": 47,
   "id": "5938e1df",
   "metadata": {},
   "outputs": [
    {
     "data": {
      "text/plain": [
       "1329426"
      ]
     },
     "execution_count": 47,
     "metadata": {},
     "output_type": "execute_result"
    }
   ],
   "source": [
    "# Save the content of web page to the local drive\n",
    "with open(html_file, \"w\") as f:\n",
    "    f.write(res.text)"
   ]
  },
  {
   "cell_type": "markdown",
   "id": "130d01f8",
   "metadata": {},
   "source": [
    "## Step 2: Extract data from the web page\n",
    "\n",
    "After we crawled the web page and download it to the local disk, we will use `BeautifulSoup` package to parse HTML file and access the content. We will use the following functions:\n",
    "\n",
    "**1. Load the web page to BeautifulSoup**\n",
    "* `soup = BeautifulSoup(html_doc, 'html.parser')` - parse the HTML content to BeautifulSoup object\n",
    "\n",
    "**2. Get the content of the element**\n",
    "* `soup.title` - get the title of the page\n",
    "* `soup.title.string` - get the string in the title tag\n",
    "* `soup.h1` - get the H1 element in the web page\n",
    "* `soup.h1.attrs` - get all attributes in the H1 element\n",
    "* `soup.h1['class']` - get the class attribute in the H1 element\n",
    "\n",
    "**3. Look for the element in the web page**\n",
    "* `soup.find('HTML_tag')` - get the element from an HTML tag\n",
    "* `soup.find_all('HTML_tag')` - get the list of elelemts that has the specified HTML tag\n",
    "* `soup.select('CSS_selector')` - get the list of elements with the specified [CSS selector](https://www.w3schools.com/cssref/css_selectors.asp)"
   ]
  },
  {
   "cell_type": "code",
   "execution_count": 14,
   "id": "8b2eef79",
   "metadata": {},
   "outputs": [],
   "source": [
    "# First, we will import the BeautifulSoup from bs4 package\n",
    "from bs4 import BeautifulSoup"
   ]
  },
  {
   "cell_type": "code",
   "execution_count": 48,
   "id": "29460bba",
   "metadata": {},
   "outputs": [],
   "source": [
    "# Load the web page and parse it to BeautifulSoup\n",
    "with open(html_file, \"r\", encoding=\"utf-8\") as f:\n",
    "    soup = BeautifulSoup(f, \"html.parser\")"
   ]
  },
  {
   "cell_type": "code",
   "execution_count": 16,
   "id": "c9f7ab9a",
   "metadata": {},
   "outputs": [
    {
     "data": {
      "text/plain": [
       "bs4.BeautifulSoup"
      ]
     },
     "execution_count": 16,
     "metadata": {},
     "output_type": "execute_result"
    }
   ],
   "source": [
    "# Check the type of our soup object\n",
    "type(soup)"
   ]
  },
  {
   "cell_type": "code",
   "execution_count": 24,
   "id": "9ee1f8e4",
   "metadata": {},
   "outputs": [
    {
     "data": {
      "text/plain": [
       "'Cryptocurrency Prices, Charts, and Crypto Market Cap | CoinGeckoThis website uses cookies for functionality, analytics and advertising purposes as described in our Privacy Policy. If you agree to our use of cookies, please continue to use our site.OKContinue in appTrack prices in real-timeOpen AppContinue in appTrack prices in real-timeOpen AppEN LanguageEnglishDeutschEspañolFrançaisItalianojęzyk polskiLimba românăMagyar nyelvNederlandsPortuguêsSvenskaTiếng việtTürkçeРусский日本語简体中文繁體中文한국어العربي'"
      ]
     },
     "execution_count": 24,
     "metadata": {},
     "output_type": "execute_result"
    }
   ],
   "source": [
    "# Get all text in the web page\n",
    "soup.get_text().strip().replace(\"\\n\", \"\")[:500]"
   ]
  },
  {
   "cell_type": "code",
   "execution_count": 20,
   "id": "ae45ff28",
   "metadata": {},
   "outputs": [
    {
     "data": {
      "text/plain": [
       "<title>Cryptocurrency Prices, Charts, and Crypto Market Cap | CoinGecko</title>"
      ]
     },
     "execution_count": 20,
     "metadata": {},
     "output_type": "execute_result"
    }
   ],
   "source": [
    "# Get the title of the page\n",
    "soup.title"
   ]
  },
  {
   "cell_type": "code",
   "execution_count": 27,
   "id": "93b83b64",
   "metadata": {},
   "outputs": [
    {
     "data": {
      "text/plain": [
       "'Cryptocurrency Prices by Market Cap'"
      ]
     },
     "execution_count": 27,
     "metadata": {},
     "output_type": "execute_result"
    }
   ],
   "source": [
    "soup.h1.text.strip()"
   ]
  },
  {
   "cell_type": "code",
   "execution_count": 25,
   "id": "d370ecc0",
   "metadata": {},
   "outputs": [
    {
     "data": {
      "text/plain": [
       "<title>Cryptocurrency Prices, Charts, and Crypto Market Cap | CoinGecko</title>"
      ]
     },
     "execution_count": 25,
     "metadata": {},
     "output_type": "execute_result"
    }
   ],
   "source": [
    "# We can also get the page title using soup.find() function\n",
    "soup.find(\"title\")"
   ]
  },
  {
   "cell_type": "code",
   "execution_count": 35,
   "id": "de57945f",
   "metadata": {},
   "outputs": [
    {
     "name": "stdout",
     "output_type": "stream",
     "text": [
      "Total 1 H1 tags\n",
      "Total 4 H2 tags\n",
      "Total 3 H3 tags\n",
      "Total 0 H4 tags\n",
      "Total 2 H5 tags\n"
     ]
    }
   ],
   "source": [
    "# Other HTML tags also work too\n",
    "for i in range(1, 6):\n",
    "    print(f\"Total {len(soup.find_all(f'h{i}'))} H{i} tags\")"
   ]
  },
  {
   "cell_type": "markdown",
   "id": "07d1fcbf",
   "metadata": {},
   "source": [
    "Now, we will extract the cryptocurrencies market price from the table."
   ]
  },
  {
   "cell_type": "code",
   "execution_count": 37,
   "id": "8e54b736",
   "metadata": {},
   "outputs": [
    {
     "data": {
      "text/plain": [
       "bs4.element.Tag"
      ]
     },
     "execution_count": 37,
     "metadata": {},
     "output_type": "execute_result"
    }
   ],
   "source": [
    "# Get the table element in the web page\n",
    "table = soup.find(\"table\", attrs={\"class\": \"table\"})\n",
    "type(table)"
   ]
  },
  {
   "cell_type": "code",
   "execution_count": 57,
   "id": "69ee70a8",
   "metadata": {},
   "outputs": [],
   "source": [
    "# Get the table headers\n",
    "headers = [x.text.strip() for x in table.thead.find_all(\"th\")]"
   ]
  },
  {
   "cell_type": "code",
   "execution_count": 54,
   "id": "4b8733fe",
   "metadata": {},
   "outputs": [
    {
     "data": {
      "text/plain": [
       "101"
      ]
     },
     "execution_count": 54,
     "metadata": {},
     "output_type": "execute_result"
    },
    {
     "data": {
      "text/plain": [
       "101"
      ]
     },
     "execution_count": 54,
     "metadata": {},
     "output_type": "execute_result"
    },
    {
     "data": {
      "text/plain": [
       "101"
      ]
     },
     "execution_count": 54,
     "metadata": {},
     "output_type": "execute_result"
    }
   ],
   "source": [
    "# If there are > 1 elements that match the tagged, \n",
    "# use soup.find_all() to retrieve all of them as a list.\n",
    "rows = [x for x in table.find_all(\"tr\")]\n",
    "cols = [x.find_all(\"td\") for x in rows]\n",
    "data = [[x.text.strip() for x in y] for y in cols]\n",
    "# len(rows)\n",
    "# len(cols)\n",
    "# len(data)\n",
    "# data[:5]"
   ]
  },
  {
   "cell_type": "code",
   "execution_count": 74,
   "id": "fe697d4c",
   "metadata": {},
   "outputs": [
    {
     "data": {
      "text/plain": [
       "[['Bitcoin',\n",
       "  'BTC',\n",
       "  19914.09,\n",
       "  0.0,\n",
       "  3.7,\n",
       "  3.6,\n",
       "  27068124639.0,\n",
       "  382219128162.0,\n",
       "  418733988129.0],\n",
       " ['Ethereum', 'ETH', 1347.54, 0.1, 4.3, 0.9, 8846089254.0, 162810730982.0]]"
      ]
     },
     "execution_count": 74,
     "metadata": {},
     "output_type": "execute_result"
    }
   ],
   "source": [
    "# Iterate over rows and get the data for each coin\n",
    "data = list()\n",
    "for row in table.find_all(\"tr\"):\n",
    "    col_data = row.find_all(\"td\")\n",
    "\n",
    "    temp = list()\n",
    "    for col in col_data:\n",
    "        spans = col.select(\".tw-flex-auto\")\n",
    "        if len(spans):\n",
    "            for span in spans[0].find_all(\"span\"):\n",
    "                temp.append(span.text.strip())\n",
    "        else:\n",
    "            for i in col.find_all(\"span\"):\n",
    "                temp.append(float(re.sub(\"[^0-9.]\", \"\", i.text.strip())))\n",
    "    \n",
    "    data.append(temp) if len(temp) else None\n",
    "\n",
    "data[:2]"
   ]
  },
  {
   "cell_type": "code",
   "execution_count": 80,
   "id": "ed7066ae",
   "metadata": {},
   "outputs": [
    {
     "data": {
      "text/plain": [
       "['#', 'Coin', 'Price', '1h', '24h', '7d', '24h Volume', 'Mkt Cap']"
      ]
     },
     "execution_count": 80,
     "metadata": {},
     "output_type": "execute_result"
    },
    {
     "data": {
      "text/plain": [
       "['Ethereum', 'ETH', 1347.54, 0.1, 4.3, 0.9, 8846089254.0, 162810730982.0]"
      ]
     },
     "execution_count": 80,
     "metadata": {},
     "output_type": "execute_result"
    }
   ],
   "source": [
    "headers[1:-2]\n",
    "data[1]"
   ]
  },
  {
   "cell_type": "code",
   "execution_count": 81,
   "id": "cd0fe451",
   "metadata": {},
   "outputs": [
    {
     "data": {
      "text/plain": [
       "[{'#': 'Bitcoin',\n",
       "  'Coin': 'BTC',\n",
       "  'Price': 19914.09,\n",
       "  '1h': 0.0,\n",
       "  '24h': 3.7,\n",
       "  '7d': 3.6,\n",
       "  '24h Volume': 27068124639.0,\n",
       "  'Mkt Cap': 382219128162.0},\n",
       " {'#': 'Ethereum',\n",
       "  'Coin': 'ETH',\n",
       "  'Price': 1347.54,\n",
       "  '1h': 0.1,\n",
       "  '24h': 4.3,\n",
       "  '7d': 0.9,\n",
       "  '24h Volume': 8846089254.0,\n",
       "  'Mkt Cap': 162810730982.0},\n",
       " {'#': 'Tether',\n",
       "  'Coin': 'USDT',\n",
       "  'Price': 0.999061,\n",
       "  '1h': 0.0,\n",
       "  '24h': 0.1,\n",
       "  '7d': 0.2,\n",
       "  '24h Volume': 31670303985.0,\n",
       "  'Mkt Cap': 67885610166.0},\n",
       " {'#': 'BNB',\n",
       "  'Coin': 'BNB',\n",
       "  'Price': 290.49,\n",
       "  '1h': 0.3,\n",
       "  '24h': 1.8,\n",
       "  '7d': 5.4,\n",
       "  '24h Volume': 570182494.0,\n",
       "  'Mkt Cap': 47450255431.0},\n",
       " {'#': 'USD Coin',\n",
       "  'Coin': 'USDC',\n",
       "  'Price': 1.0,\n",
       "  '1h': 0.1,\n",
       "  '24h': 0.0,\n",
       "  '7d': 0.1,\n",
       "  '24h Volume': 3177940647.0,\n",
       "  'Mkt Cap': 47178443705.0},\n",
       " {'#': 'XRP',\n",
       "  'Coin': 'XRP',\n",
       "  'Price': 0.460894,\n",
       "  '1h': 0.4,\n",
       "  '24h': 4.5,\n",
       "  '7d': 1.4,\n",
       "  '24h Volume': 1671017415.0,\n",
       "  'Mkt Cap': 22975970912.0},\n",
       " {'#': 'Binance USD',\n",
       "  'Coin': 'BUSD',\n",
       "  'Price': 0.997668,\n",
       "  '1h': 0.2,\n",
       "  '24h': 0.3,\n",
       "  '7d': 0.3,\n",
       "  '24h Volume': 6547829153.0,\n",
       "  'Mkt Cap': 20804579813.0},\n",
       " {'#': 'Cardano',\n",
       "  'Coin': 'ADA',\n",
       "  'Price': 0.431126,\n",
       "  '1h': 0.6,\n",
       "  '24h': 2.0,\n",
       "  '7d': 3.5,\n",
       "  '24h Volume': 387107517.0,\n",
       "  'Mkt Cap': 14581440373.0},\n",
       " {'#': 'Solana',\n",
       "  'Coin': 'SOL',\n",
       "  'Price': 33.51,\n",
       "  '1h': 0.5,\n",
       "  '24h': 3.9,\n",
       "  '7d': 1.0,\n",
       "  '24h Volume': 641338953.0,\n",
       "  'Mkt Cap': 11887757567.0},\n",
       " {'#': 'Dogecoin',\n",
       "  'Coin': 'DOGE',\n",
       "  'Price': 0.060573003412,\n",
       "  '1h': 0.1,\n",
       "  '24h': 1.2,\n",
       "  '7d': 0.9,\n",
       "  '24h Volume': 186896028.0,\n",
       "  'Mkt Cap': 8035545007.0},\n",
       " {'#': 'Polkadot',\n",
       "  'Coin': 'DOT',\n",
       "  'Price': 6.44,\n",
       "  '1h': 0.0,\n",
       "  '24h': 3.3,\n",
       "  '7d': 1.5,\n",
       "  '24h Volume': 184065942.0,\n",
       "  'Mkt Cap': 7455121223.0},\n",
       " {'#': 'Shiba Inu',\n",
       "  'Coin': 'SHIB',\n",
       "  'Price': 1.1224104e-05,\n",
       "  '1h': 0.6,\n",
       "  '24h': 1.5,\n",
       "  '7d': 1.0,\n",
       "  '24h Volume': 157837464.0,\n",
       "  'Mkt Cap': 6610288207.0},\n",
       " {'#': 'Dai',\n",
       "  'Coin': 'DAI',\n",
       "  'Price': 1.0,\n",
       "  '1h': 0.1,\n",
       "  '24h': 0.0,\n",
       "  '7d': 0.1,\n",
       "  '24h Volume': 460693511.0,\n",
       "  'Mkt Cap': 6322063751.0},\n",
       " {'#': 'Polygon',\n",
       "  'Coin': 'MATIC',\n",
       "  'Price': 0.824894,\n",
       "  '1h': 0.4,\n",
       "  '24h': 7.1,\n",
       "  '7d': 9.2,\n",
       "  '24h Volume': 372883906.0,\n",
       "  'Mkt Cap': 6133823312.0},\n",
       " {'#': 'Lido Staked Ether',\n",
       "  'Coin': 'STETH',\n",
       "  'Price': 1341.05,\n",
       "  '1h': 0.3,\n",
       "  '24h': 4.5,\n",
       "  '7d': 0.9,\n",
       "  '24h Volume': 4040588.0,\n",
       "  'Mkt Cap': 5901915466.0},\n",
       " {'#': 'TRON',\n",
       "  'Coin': 'TRX',\n",
       "  'Price': 0.061223627721,\n",
       "  '1h': 0.2,\n",
       "  '24h': 0.3,\n",
       "  '7d': 2.8,\n",
       "  '24h Volume': 253118381.0,\n",
       "  'Mkt Cap': 5653938680.0},\n",
       " {'#': 'Avalanche',\n",
       "  'Coin': 'AVAX',\n",
       "  'Price': 17.31,\n",
       "  '1h': 0.3,\n",
       "  '24h': 3.9,\n",
       "  '7d': 1.2,\n",
       "  '24h Volume': 173560246.0,\n",
       "  'Mkt Cap': 5121641174.0},\n",
       " {'#': 'Uniswap',\n",
       "  'Coin': 'UNI',\n",
       "  'Price': 6.67,\n",
       "  '1h': 0.2,\n",
       "  '24h': 3.2,\n",
       "  '7d': 12.9,\n",
       "  '24h Volume': 177820754.0,\n",
       "  'Mkt Cap': 5029441328.0},\n",
       " {'#': 'Wrapped Bitcoin',\n",
       "  'Coin': 'WBTC',\n",
       "  'Price': 19909.01,\n",
       "  '1h': 0.2,\n",
       "  '24h': 3.6,\n",
       "  '7d': 3.8,\n",
       "  '24h Volume': 184395856.0,\n",
       "  'Mkt Cap': 4873055327.0},\n",
       " {'#': 'LEO Token',\n",
       "  'Coin': 'LEO',\n",
       "  'Price': 4.26,\n",
       "  '1h': 0.1,\n",
       "  '24h': 3.6,\n",
       "  '7d': 4.6,\n",
       "  '24h Volume': 1485586.0,\n",
       "  'Mkt Cap': 3959243917.0},\n",
       " {'#': 'OKB',\n",
       "  'Coin': 'OKB',\n",
       "  'Price': 15.66,\n",
       "  '1h': 0.7,\n",
       "  '24h': 2.0,\n",
       "  '7d': 2.0,\n",
       "  '24h Volume': 15409058.0,\n",
       "  'Mkt Cap': 3940234266.0},\n",
       " {'#': 'Litecoin',\n",
       "  'Coin': 'LTC',\n",
       "  'Price': 54.59,\n",
       "  '1h': 0.3,\n",
       "  '24h': 3.4,\n",
       "  '7d': 2.2,\n",
       "  '24h Volume': 272101132.0,\n",
       "  'Mkt Cap': 3894668125.0},\n",
       " {'#': 'Cosmos Hub',\n",
       "  'Coin': 'ATOM',\n",
       "  'Price': 13.1,\n",
       "  '1h': 0.6,\n",
       "  '24h': 7.0,\n",
       "  '7d': 5.7,\n",
       "  '24h Volume': 311606011.0,\n",
       "  'Mkt Cap': 3832393632.0},\n",
       " {'#': 'Ethereum Classic',\n",
       "  'Coin': 'ETC',\n",
       "  'Price': 27.7,\n",
       "  '1h': 0.4,\n",
       "  '24h': 2.0,\n",
       "  '7d': 2.6,\n",
       "  '24h Volume': 255189863.0,\n",
       "  'Mkt Cap': 3799369058.0},\n",
       " {'#': 'Chainlink',\n",
       "  'Coin': 'LINK',\n",
       "  'Price': 7.64,\n",
       "  '1h': 0.4,\n",
       "  '24h': 7.2,\n",
       "  '7d': 3.7,\n",
       "  '24h Volume': 451794730.0,\n",
       "  'Mkt Cap': 3751925484.0},\n",
       " {'#': 'FTX',\n",
       "  'Coin': 'FTT',\n",
       "  'Price': 24.9,\n",
       "  '1h': 0.1,\n",
       "  '24h': 3.9,\n",
       "  '7d': 2.9,\n",
       "  '24h Volume': 53130393.0,\n",
       "  'Mkt Cap': 3319958999.0},\n",
       " {'#': 'Stellar',\n",
       "  'Coin': 'XLM',\n",
       "  'Price': 0.117107,\n",
       "  '1h': 0.0,\n",
       "  '24h': 2.2,\n",
       "  '7d': 3.1,\n",
       "  '24h Volume': 107822472.0,\n",
       "  'Mkt Cap': 2981172644.0},\n",
       " {'#': 'NEAR Protocol',\n",
       "  'Coin': 'NEAR',\n",
       "  'Price': 3.6,\n",
       "  '1h': 0.1,\n",
       "  '24h': 4.0,\n",
       "  '7d': 2.0,\n",
       "  '24h Volume': 114965820.0,\n",
       "  'Mkt Cap': 2877513164.0},\n",
       " {'#': 'Cronos',\n",
       "  'Coin': 'CRO',\n",
       "  'Price': 0.110504,\n",
       "  '1h': 0.4,\n",
       "  '24h': 0.0,\n",
       "  '7d': 4.1,\n",
       "  '24h Volume': 19943907.0,\n",
       "  'Mkt Cap': 2788235241.0},\n",
       " {'#': 'Monero',\n",
       "  'Coin': 'XMR',\n",
       "  'Price': 144.2,\n",
       "  '1h': 0.1,\n",
       "  '24h': 4.0,\n",
       "  '7d': 1.0,\n",
       "  '24h Volume': 64873318.0,\n",
       "  'Mkt Cap': 2614732348.0},\n",
       " {'#': 'Algorand',\n",
       "  'Coin': 'ALGO',\n",
       "  'Price': 0.352834,\n",
       "  '1h': 0.6,\n",
       "  '24h': 1.1,\n",
       "  '7d': 4.2,\n",
       "  '24h Volume': 92962542.0,\n",
       "  'Mkt Cap': 2447738443.0},\n",
       " {'#': 'Bitcoin Cash',\n",
       "  'Coin': 'BCH',\n",
       "  'Price': 117.65,\n",
       "  '1h': 0.0,\n",
       "  '24h': 2.5,\n",
       "  '7d': 1.2,\n",
       "  '24h Volume': 494276558.0,\n",
       "  'Mkt Cap': 2257715850.0},\n",
       " {'#': 'Terra Luna Classic',\n",
       "  'Coin': 'LUNC',\n",
       "  'Price': 0.000314656216,\n",
       "  '1h': 1.4,\n",
       "  '24h': 3.5,\n",
       "  '7d': 1.7,\n",
       "  '24h Volume': 843233173.0,\n",
       "  'Mkt Cap': 2172349386.0},\n",
       " {'#': 'Quant',\n",
       "  'Coin': 'QNT',\n",
       "  'Price': 140.67,\n",
       "  '1h': 1.7,\n",
       "  '24h': 7.1,\n",
       "  '7d': 17.0,\n",
       "  '24h Volume': 60084710.0,\n",
       "  'Mkt Cap': 1892836139.0},\n",
       " {'#': 'Flow',\n",
       "  'Coin': 'FLOW',\n",
       "  'Price': 1.7,\n",
       "  '1h': 0.2,\n",
       "  '24h': 3.8,\n",
       "  '7d': 1.9,\n",
       "  '24h Volume': 27788032.0,\n",
       "  'Mkt Cap': 1756148841.0},\n",
       " {'#': 'VeChain',\n",
       "  'Coin': 'VET',\n",
       "  'Price': 0.023770493812,\n",
       "  '1h': 0.2,\n",
       "  '24h': 4.3,\n",
       "  '7d': 4.9,\n",
       "  '24h Volume': 56359076.0,\n",
       "  'Mkt Cap': 1722667171.0},\n",
       " {'#': 'ApeCoin',\n",
       "  'Coin': 'APE',\n",
       "  'Price': 5.25,\n",
       "  '1h': 0.3,\n",
       "  '24h': 4.8,\n",
       "  '7d': 4.7,\n",
       "  '24h Volume': 133909604.0,\n",
       "  'Mkt Cap': 1648650264.0},\n",
       " {'#': 'Filecoin',\n",
       "  'Coin': 'FIL',\n",
       "  'Price': 5.58,\n",
       "  '1h': 0.2,\n",
       "  '24h': 2.7,\n",
       "  '7d': 1.8,\n",
       "  '24h Volume': 88194324.0,\n",
       "  'Mkt Cap': 1634068651.0},\n",
       " {'#': 'Internet Computer',\n",
       "  'Coin': 'ICP',\n",
       "  'Price': 6.11,\n",
       "  '1h': 0.3,\n",
       "  '24h': 2.5,\n",
       "  '7d': 2.0,\n",
       "  '24h Volume': 31110262.0,\n",
       "  'Mkt Cap': 1601676072.0},\n",
       " {'#': 'Chain',\n",
       "  'Coin': 'XCN',\n",
       "  'Price': 0.072605316728,\n",
       "  '1h': 1.0,\n",
       "  '24h': 4.9,\n",
       "  '7d': 1.0,\n",
       "  '24h Volume': 12747408.0,\n",
       "  'Mkt Cap': 1553644218.0},\n",
       " {'#': 'Hedera',\n",
       "  'Coin': 'HBAR',\n",
       "  'Price': 0.058179248977,\n",
       "  '1h': 0.8,\n",
       "  '24h': 2.1,\n",
       "  '7d': 3.2,\n",
       "  '24h Volume': 31087324.0,\n",
       "  'Mkt Cap': 1416273382.0},\n",
       " {'#': 'Frax',\n",
       "  'Coin': 'FRAX',\n",
       "  'Price': 0.999356,\n",
       "  '1h': 0.2,\n",
       "  '24h': 0.1,\n",
       "  '7d': 0.1,\n",
       "  '24h Volume': 12898680.0,\n",
       "  'Mkt Cap': 1356750897.0},\n",
       " {'#': 'Tezos',\n",
       "  'Coin': 'XTZ',\n",
       "  'Price': 1.45,\n",
       "  '1h': 0.3,\n",
       "  '24h': 3.4,\n",
       "  '7d': 1.7,\n",
       "  '24h Volume': 30829847.0,\n",
       "  'Mkt Cap': 1308855161.0},\n",
       " {'#': 'Decentraland',\n",
       "  'Coin': 'MANA',\n",
       "  'Price': 0.703802,\n",
       "  '1h': 0.0,\n",
       "  '24h': 2.7,\n",
       "  '7d': 0.2,\n",
       "  '24h Volume': 91645211.0,\n",
       "  'Mkt Cap': 1274510570.0},\n",
       " {'#': 'The Sandbox',\n",
       "  'Coin': 'SAND',\n",
       "  'Price': 0.838965,\n",
       "  '1h': 0.1,\n",
       "  '24h': 3.0,\n",
       "  '7d': 2.2,\n",
       "  '24h Volume': 133654860.0,\n",
       "  'Mkt Cap': 1257521241.0},\n",
       " {'#': 'Elrond',\n",
       "  'Coin': 'EGLD',\n",
       "  'Price': 52.87,\n",
       "  '1h': 0.2,\n",
       "  '24h': 6.5,\n",
       "  '7d': 13.2,\n",
       "  '24h Volume': 72001995.0,\n",
       "  'Mkt Cap': 1247947375.0},\n",
       " {'#': 'EOS',\n",
       "  'Coin': 'EOS',\n",
       "  'Price': 1.19,\n",
       "  '1h': 0.0,\n",
       "  '24h': 1.8,\n",
       "  '7d': 1.0,\n",
       "  '24h Volume': 147831850.0,\n",
       "  'Mkt Cap': 1204819472.0},\n",
       " {'#': 'Chiliz',\n",
       "  'Coin': 'CHZ',\n",
       "  'Price': 0.215886,\n",
       "  '1h': 2.0,\n",
       "  '24h': 0.8,\n",
       "  '7d': 15.8,\n",
       "  '24h Volume': 258413015.0,\n",
       "  'Mkt Cap': 1154147458.0},\n",
       " {'#': 'Axie Infinity',\n",
       "  'Coin': 'AXS',\n",
       "  'Price': 12.76,\n",
       "  '1h': 0.2,\n",
       "  '24h': 3.5,\n",
       "  '7d': 2.2,\n",
       "  '24h Volume': 45299769.0,\n",
       "  'Mkt Cap': 1151629645.0},\n",
       " {'#': 'Aave',\n",
       "  'Coin': 'AAVE',\n",
       "  'Price': 77.1,\n",
       "  '1h': 0.1,\n",
       "  '24h': 4.5,\n",
       "  '7d': 1.2,\n",
       "  '24h Volume': 97621840.0,\n",
       "  'Mkt Cap': 1088267533.0},\n",
       " {'#': 'Theta Network',\n",
       "  'Coin': 'THETA',\n",
       "  'Price': 1.07,\n",
       "  '1h': 0.6,\n",
       "  '24h': 2.5,\n",
       "  '7d': 2.3,\n",
       "  '24h Volume': 15675736.0,\n",
       "  'Mkt Cap': 1070476855.0},\n",
       " {'#': 'Lido DAO',\n",
       "  'Coin': 'LDO',\n",
       "  'Price': 1.6,\n",
       "  '1h': 0.3,\n",
       "  '24h': 9.9,\n",
       "  '7d': 2.0,\n",
       "  '24h Volume': 26177573.0,\n",
       "  'Mkt Cap': 1054969665.0},\n",
       " {'#': 'cUSDC',\n",
       "  'Coin': 'CUSDC',\n",
       "  'Price': 0.022683181588,\n",
       "  '1h': 0.0,\n",
       "  '24h': 0.2,\n",
       "  '7d': 0.3,\n",
       "  '24h Volume': 21.92,\n",
       "  'Mkt Cap': 955201202.0},\n",
       " {'#': 'Bitcoin SV',\n",
       "  'Coin': 'BSV',\n",
       "  'Price': 48.76,\n",
       "  '1h': 0.2,\n",
       "  '24h': 0.8,\n",
       "  '7d': 5.0,\n",
       "  '24h Volume': 14590820.0,\n",
       "  'Mkt Cap': 935648534.0},\n",
       " {'#': 'Pax Dollar',\n",
       "  'Coin': 'USDP',\n",
       "  'Price': 0.998113,\n",
       "  '1h': 0.0,\n",
       "  '24h': 0.1,\n",
       "  '7d': 0.1,\n",
       "  '24h Volume': 7893154.0,\n",
       "  'Mkt Cap': 914950906.0},\n",
       " {'#': 'KuCoin',\n",
       "  'Coin': 'KCS',\n",
       "  'Price': 9.19,\n",
       "  '1h': 0.4,\n",
       "  '24h': 1.8,\n",
       "  '7d': 1.0,\n",
       "  '24h Volume': 1311174.0,\n",
       "  'Mkt Cap': 898410543.0},\n",
       " {'#': 'TrueUSD',\n",
       "  'Coin': 'TUSD',\n",
       "  'Price': 0.999274,\n",
       "  '1h': 0.1,\n",
       "  '24h': 0.0,\n",
       "  '7d': 0.0,\n",
       "  '24h Volume': 74688956.0,\n",
       "  'Mkt Cap': 885424474.0},\n",
       " {'#': 'eCash',\n",
       "  'Coin': 'XEC',\n",
       "  'Price': 4.0962024e-05,\n",
       "  '1h': 0.0,\n",
       "  '24h': 1.7,\n",
       "  '7d': 0.5,\n",
       "  '24h Volume': 4821282.0,\n",
       "  'Mkt Cap': 785817229.0},\n",
       " {'#': 'USDD',\n",
       "  'Coin': 'USDD',\n",
       "  'Price': 0.999319,\n",
       "  '1h': 0.0,\n",
       "  '24h': 0.1,\n",
       "  '7d': 0.1,\n",
       "  '24h Volume': 47154401.0,\n",
       "  'Mkt Cap': 783960157.0},\n",
       " {'#': 'IOTA',\n",
       "  'Coin': 'MIOTA',\n",
       "  'Price': 0.280547,\n",
       "  '1h': 0.2,\n",
       "  '24h': 1.5,\n",
       "  '7d': 10.2,\n",
       "  '24h Volume': 12549267.0,\n",
       "  'Mkt Cap': 778606864.0},\n",
       " {'#': 'Maker',\n",
       "  'Coin': 'MKR',\n",
       "  'Price': 840.46,\n",
       "  '1h': 0.8,\n",
       "  '24h': 6.9,\n",
       "  '7d': 17.0,\n",
       "  '24h Volume': 55851150.0,\n",
       "  'Mkt Cap': 758638204.0},\n",
       " {'#': 'BitTorrent',\n",
       "  'Coin': 'BTT',\n",
       "  'Price': 7.87074e-07,\n",
       "  '1h': 0.2,\n",
       "  '24h': 1.7,\n",
       "  '7d': 0.1,\n",
       "  '24h Volume': 19284689.0,\n",
       "  'Mkt Cap': 741492046.0},\n",
       " {'#': 'The Graph',\n",
       "  'Coin': 'GRT',\n",
       "  'Price': 0.099567964081,\n",
       "  '1h': 0.5,\n",
       "  '24h': 4.0,\n",
       "  '7d': 2.8,\n",
       "  '24h Volume': 13902863.0,\n",
       "  'Mkt Cap': 736720654.0},\n",
       " {'#': 'Zcash',\n",
       "  'Coin': 'ZEC',\n",
       "  'Price': 56.8,\n",
       "  '1h': 0.1,\n",
       "  '24h': 4.1,\n",
       "  '7d': 3.5,\n",
       "  '24h Volume': 43835665.0,\n",
       "  'Mkt Cap': 731587408.0},\n",
       " {'#': 'Tokenize Xchange',\n",
       "  'Coin': 'TKX',\n",
       "  'Price': 9.05,\n",
       "  '1h': 0.0,\n",
       "  '24h': 0.2,\n",
       "  '7d': 18.1,\n",
       "  '24h Volume': 30302802.0,\n",
       "  'Mkt Cap': 722887087.0},\n",
       " {'#': 'cDAI',\n",
       "  'Coin': 'CDAI',\n",
       "  'Price': 0.022122098793,\n",
       "  '1h': 0.1,\n",
       "  '24h': 0.2,\n",
       "  '7d': 0.4,\n",
       "  '24h Volume': 8911.05,\n",
       "  'Mkt Cap': 673503179.0},\n",
       " {'#': 'PancakeSwap',\n",
       "  'Coin': 'CAKE',\n",
       "  'Price': 4.67,\n",
       "  '1h': 0.5,\n",
       "  '24h': 1.8,\n",
       "  '7d': 1.2,\n",
       "  '24h Volume': 46331970.0,\n",
       "  'Mkt Cap': 650323183.0},\n",
       " {'#': 'Helium',\n",
       "  'Coin': 'HNT',\n",
       "  'Price': 4.91,\n",
       "  '1h': 0.2,\n",
       "  '24h': 0.1,\n",
       "  '7d': 5.1,\n",
       "  '24h Volume': 9635942.0,\n",
       "  'Mkt Cap': 635882735.0},\n",
       " {'#': 'Gate',\n",
       "  'Coin': 'GT',\n",
       "  'Price': 4.31,\n",
       "  '1h': 0.2,\n",
       "  '24h': 0.8,\n",
       "  '7d': 2.0,\n",
       "  '24h Volume': 2168602.0,\n",
       "  'Mkt Cap': 626934569.0},\n",
       " {'#': 'NEO',\n",
       "  'Coin': 'NEO',\n",
       "  'Price': 8.78,\n",
       "  '1h': 0.2,\n",
       "  '24h': 2.6,\n",
       "  '7d': 4.9,\n",
       "  '24h Volume': 22719697.0,\n",
       "  'Mkt Cap': 619145519.0},\n",
       " {'#': 'Klaytn',\n",
       "  'Coin': 'KLAY',\n",
       "  'Price': 0.189162,\n",
       "  '1h': 0.4,\n",
       "  '24h': 1.4,\n",
       "  '7d': 7.6,\n",
       "  '24h Volume': 13049523.0,\n",
       "  'Mkt Cap': 578185910.0},\n",
       " {'#': 'Radix',\n",
       "  'Coin': 'XRD',\n",
       "  'Price': 0.057760111225,\n",
       "  '1h': 0.0,\n",
       "  '24h': 2.2,\n",
       "  '7d': 1.0,\n",
       "  '24h Volume': 528919.0,\n",
       "  'Mkt Cap': 577404501.0},\n",
       " {'#': 'Fantom',\n",
       "  'Coin': 'FTM',\n",
       "  'Price': 0.226685,\n",
       "  '1h': 0.1,\n",
       "  '24h': 2.8,\n",
       "  '7d': 0.7,\n",
       "  '24h Volume': 104691132.0,\n",
       "  'Mkt Cap': 576325765.0},\n",
       " {'#': 'Celsius Network',\n",
       "  'Coin': 'CEL',\n",
       "  'Price': 1.34,\n",
       "  '1h': 0.2,\n",
       "  '24h': 0.5,\n",
       "  '7d': 8.9,\n",
       "  '24h Volume': 6225074.0,\n",
       "  'Mkt Cap': 565204253.0},\n",
       " {'#': 'cETH',\n",
       "  'Coin': 'CETH',\n",
       "  'Price': 27.13,\n",
       "  '1h': 0.8,\n",
       "  '24h': 4.6,\n",
       "  '7d': 1.8,\n",
       "  '24h Volume': 18.64,\n",
       "  'Mkt Cap': 556205784.0},\n",
       " {'#': 'Synthetix Network',\n",
       "  'Coin': 'SNX',\n",
       "  'Price': 2.31,\n",
       "  '1h': 0.2,\n",
       "  '24h': 3.0,\n",
       "  '7d': 0.3,\n",
       "  '24h Volume': 42870093.0,\n",
       "  'Mkt Cap': 553339453.0},\n",
       " {'#': 'Huobi',\n",
       "  'Coin': 'HT',\n",
       "  'Price': 4.07,\n",
       "  '1h': 0.4,\n",
       "  '24h': 1.3,\n",
       "  '7d': 7.9,\n",
       "  '24h Volume': 8370635.0,\n",
       "  'Mkt Cap': 532875807.0},\n",
       " {'#': 'BitDAO',\n",
       "  'Coin': 'BIT',\n",
       "  'Price': 0.483489,\n",
       "  '1h': 0.3,\n",
       "  '24h': 1.5,\n",
       "  '7d': 2.8,\n",
       "  '24h Volume': 15904282.0,\n",
       "  'Mkt Cap': 519935361.0},\n",
       " {'#': 'PAX Gold',\n",
       "  'Coin': 'PAXG',\n",
       "  'Price': 1698.47,\n",
       "  '1h': 0.2,\n",
       "  '24h': 2.4,\n",
       "  '7d': 5.0,\n",
       "  '24h Volume': 8206852.0,\n",
       "  'Mkt Cap': 514424078.0},\n",
       " {'#': 'Osmosis',\n",
       "  'Coin': 'OSMO',\n",
       "  'Price': 1.11,\n",
       "  '1h': 0.3,\n",
       "  '24h': 4.1,\n",
       "  '7d': 6.0,\n",
       "  '24h Volume': 7639318.0,\n",
       "  'Mkt Cap': 506427745.0},\n",
       " {'#': 'THORChain',\n",
       "  'Coin': 'RUNE',\n",
       "  'Price': 1.65,\n",
       "  '1h': 0.5,\n",
       "  '24h': 9.1,\n",
       "  '7d': 3.4,\n",
       "  '24h Volume': 78726540.0,\n",
       "  'Mkt Cap': 496479610.0},\n",
       " {'#': 'NEXO',\n",
       "  'Coin': 'NEXO',\n",
       "  'Price': 0.87878,\n",
       "  '1h': 0.5,\n",
       "  '24h': 0.3,\n",
       "  '7d': 4.4,\n",
       "  '24h Volume': 3956750.0,\n",
       "  'Mkt Cap': 492116565.0},\n",
       " {'#': 'Arweave',\n",
       "  'Coin': 'AR',\n",
       "  'Price': 9.57,\n",
       "  '1h': 0.0,\n",
       "  '24h': 4.5,\n",
       "  '7d': 1.4,\n",
       "  '24h Volume': 10737167.0,\n",
       "  'Mkt Cap': 479489536.0},\n",
       " {'#': 'Zilliqa',\n",
       "  'Coin': 'ZIL',\n",
       "  'Price': 0.031669608468,\n",
       "  '1h': 0.3,\n",
       "  '24h': 3.3,\n",
       "  '7d': 0.4,\n",
       "  '24h Volume': 30056908.0,\n",
       "  'Mkt Cap': 472267791.0},\n",
       " {'#': 'Evmos',\n",
       "  'Coin': 'EVMOS',\n",
       "  'Price': 1.51,\n",
       "  '1h': 1.0,\n",
       "  '24h': 0.1,\n",
       "  '7d': 20.3,\n",
       "  '24h Volume': 2080369.0,\n",
       "  'Mkt Cap': 472152466.0},\n",
       " {'#': 'Rocket Pool',\n",
       "  'Coin': 'RPL',\n",
       "  'Price': 24.65,\n",
       "  '1h': 0.3,\n",
       "  '24h': 4.2,\n",
       "  '7d': 1.7,\n",
       "  '24h Volume': 1330880.0,\n",
       "  'Mkt Cap': 464100039.0},\n",
       " {'#': 'Dash',\n",
       "  'Coin': 'DASH',\n",
       "  'Price': 42.01,\n",
       "  '1h': 0.1,\n",
       "  '24h': 3.9,\n",
       "  '7d': 1.1,\n",
       "  '24h Volume': 52803657.0,\n",
       "  'Mkt Cap': 460033822.0},\n",
       " {'#': 'Basic Attention',\n",
       "  'Coin': 'BAT',\n",
       "  'Price': 0.305027,\n",
       "  '1h': 0.2,\n",
       "  '24h': 3.8,\n",
       "  '7d': 1.6,\n",
       "  '24h Volume': 19795115.0,\n",
       "  'Mkt Cap': 456582751.0},\n",
       " {'#': 'Enjin Coin',\n",
       "  'Coin': 'ENJ',\n",
       "  'Price': 0.455682,\n",
       "  '1h': 0.1,\n",
       "  '24h': 3.1,\n",
       "  '7d': 2.1,\n",
       "  '24h Volume': 23929205.0,\n",
       "  'Mkt Cap': 455682097.0},\n",
       " {'#': 'Kava',\n",
       "  'Coin': 'KAVA',\n",
       "  'Price': 1.54,\n",
       "  '1h': 0.7,\n",
       "  '24h': 4.4,\n",
       "  '7d': 3.0,\n",
       "  '24h Volume': 12053970.0,\n",
       "  'Mkt Cap': 441999133.0},\n",
       " {'#': 'Terra',\n",
       "  'Coin': 'LUNA',\n",
       "  'Price': 2.62,\n",
       "  '1h': 0.0,\n",
       "  '24h': 7.6,\n",
       "  '7d': 3.5,\n",
       "  '24h Volume': 206559299.0,\n",
       "  'Mkt Cap': 435660182.0},\n",
       " {'#': 'Stacks',\n",
       "  'Coin': 'STX',\n",
       "  'Price': 0.323917,\n",
       "  '1h': 0.1,\n",
       "  '24h': 2.4,\n",
       "  '7d': 1.2,\n",
       "  '24h Volume': 9250529.0,\n",
       "  'Mkt Cap': 433233642.0},\n",
       " {'#': 'XDC Network',\n",
       "  'Coin': 'XDC',\n",
       "  'Price': 0.031153178386,\n",
       "  '1h': 0.6,\n",
       "  '24h': 1.5,\n",
       "  '7d': 8.5,\n",
       "  '24h Volume': 3805834.0,\n",
       "  'Mkt Cap': 429159957.0},\n",
       " {'#': 'Ravencoin',\n",
       "  'Coin': 'RVN',\n",
       "  'Price': 0.035841494914,\n",
       "  '1h': 0.1,\n",
       "  '24h': 1.8,\n",
       "  '7d': 4.3,\n",
       "  '24h Volume': 17056173.0,\n",
       "  'Mkt Cap': 420482704.0},\n",
       " {'#': 'Tether Gold',\n",
       "  'Coin': 'XAUT',\n",
       "  'Price': 1696.12,\n",
       "  '1h': 0.1,\n",
       "  '24h': 1.1,\n",
       "  '7d': 1.2,\n",
       "  '24h Volume': 869291.0,\n",
       "  'Mkt Cap': 417551848.0},\n",
       " {'#': 'DeFiChain',\n",
       "  'Coin': 'DFI',\n",
       "  'Price': 0.69697,\n",
       "  '1h': 0.0,\n",
       "  '24h': 2.5,\n",
       "  '7d': 7.5,\n",
       "  '24h Volume': 2797247.0,\n",
       "  'Mkt Cap': 415253292.0},\n",
       " {'#': 'Mina Protocol',\n",
       "  'Coin': 'MINA',\n",
       "  'Price': 0.594934,\n",
       "  '1h': 0.5,\n",
       "  '24h': 2.7,\n",
       "  '7d': 0.2,\n",
       "  '24h Volume': 8758572.0,\n",
       "  'Mkt Cap': 414263788.0},\n",
       " {'#': 'Compound',\n",
       "  'Coin': 'COMP',\n",
       "  'Price': 60.12,\n",
       "  '1h': 0.3,\n",
       "  '24h': 2.2,\n",
       "  '7d': 4.0,\n",
       "  '24h Volume': 31653498.0,\n",
       "  'Mkt Cap': 412434019.0},\n",
       " {'#': 'Ethereum Name Service',\n",
       "  'Coin': 'ENS',\n",
       "  'Price': 15.76,\n",
       "  '1h': 0.2,\n",
       "  '24h': 8.0,\n",
       "  '7d': 6.3,\n",
       "  '24h Volume': 63519849.0,\n",
       "  'Mkt Cap': 406349676.0},\n",
       " {'#': 'Reserve Rights',\n",
       "  'Coin': 'RSR',\n",
       "  'Price': 0.00942394116,\n",
       "  '1h': 0.7,\n",
       "  '24h': 5.4,\n",
       "  '7d': 22.6,\n",
       "  '24h Volume': 102893077.0,\n",
       "  'Mkt Cap': 398355121.0}]"
      ]
     },
     "execution_count": 81,
     "metadata": {},
     "output_type": "execute_result"
    }
   ],
   "source": [
    "[dict(zip(headers[1:-2], v)) for v in data]"
   ]
  },
  {
   "cell_type": "markdown",
   "id": "e726f336",
   "metadata": {},
   "source": [
    "## Step 3: Create data table and save as CSV file\n",
    "\n",
    "Let's wrap our data table as the pandas's DataFrame and save it as a CSV file."
   ]
  },
  {
   "cell_type": "code",
   "execution_count": null,
   "id": "a1d9d07c",
   "metadata": {},
   "outputs": [],
   "source": [
    "import pandas as pd"
   ]
  },
  {
   "cell_type": "code",
   "execution_count": null,
   "id": "afe0f2a9",
   "metadata": {},
   "outputs": [],
   "source": []
  }
 ],
 "metadata": {
  "kernelspec": {
   "display_name": "Python 3.9.13 ('visual_analysis')",
   "language": "python",
   "name": "python3"
  },
  "language_info": {
   "codemirror_mode": {
    "name": "ipython",
    "version": 3
   },
   "file_extension": ".py",
   "mimetype": "text/x-python",
   "name": "python",
   "nbconvert_exporter": "python",
   "pygments_lexer": "ipython3",
   "version": "3.9.13"
  },
  "vscode": {
   "interpreter": {
    "hash": "ae8dc205f4db5a1defeb3d03690316e6259ab9b9aea5e5b1523f70f76f6035e9"
   }
  }
 },
 "nbformat": 4,
 "nbformat_minor": 5
}
