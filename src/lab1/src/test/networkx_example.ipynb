{
 "cells": [
  {
   "cell_type": "code",
   "execution_count": 1,
   "id": "8477c89f-d8b1-48a2-a44e-ad2a4b41ae6e",
   "metadata": {},
   "outputs": [],
   "source": [
    "import networkx as nx\n",
    "import pandas as pd\n",
    "import matplotlib.pyplot as plt\n",
    "\n",
    "from os.path import join, exists, isfile, isdir, abspath, dirname, basename, realpath\n",
    "from os import makedirs, listdir, pardir, getcwd\n",
    "\n",
    "from IPython.core.interactiveshell import InteractiveShell\n",
    "InteractiveShell.ast_node_interactivity = \"all\""
   ]
  },
  {
   "cell_type": "code",
   "execution_count": 2,
   "id": "942890ed",
   "metadata": {},
   "outputs": [],
   "source": [
    "parent_dir = abspath(join(join(getcwd(), pardir), pardir))\n",
    "data_dir = join(parent_dir, 'data')"
   ]
  },
  {
   "cell_type": "code",
   "execution_count": 4,
   "id": "d6014333",
   "metadata": {},
   "outputs": [
    {
     "ename": "ModuleNotFoundError",
     "evalue": "No module named 'mayavi'",
     "output_type": "error",
     "traceback": [
      "\u001b[0;31m---------------------------------------------------------------------------\u001b[0m",
      "\u001b[0;31mModuleNotFoundError\u001b[0m                       Traceback (most recent call last)",
      "Cell \u001b[0;32mIn [4], line 3\u001b[0m\n\u001b[1;32m      1\u001b[0m \u001b[38;5;28;01mimport\u001b[39;00m \u001b[38;5;21;01mnetworkx\u001b[39;00m \u001b[38;5;28;01mas\u001b[39;00m \u001b[38;5;21;01mnx\u001b[39;00m\n\u001b[1;32m      2\u001b[0m \u001b[38;5;28;01mimport\u001b[39;00m \u001b[38;5;21;01mnumpy\u001b[39;00m \u001b[38;5;28;01mas\u001b[39;00m \u001b[38;5;21;01mnp\u001b[39;00m\n\u001b[0;32m----> 3\u001b[0m \u001b[38;5;28;01mfrom\u001b[39;00m \u001b[38;5;21;01mmayavi\u001b[39;00m \u001b[38;5;28;01mimport\u001b[39;00m mlab\n\u001b[1;32m      5\u001b[0m \u001b[38;5;66;03m# some graphs to try\u001b[39;00m\n\u001b[1;32m      6\u001b[0m \u001b[38;5;66;03m# H=nx.krackhardt_kite_graph()\u001b[39;00m\n\u001b[1;32m      7\u001b[0m \u001b[38;5;66;03m# H=nx.Graph();H.add_edge('a','b');H.add_edge('a','c');H.add_edge('a','d')\u001b[39;00m\n\u001b[1;32m      8\u001b[0m \u001b[38;5;66;03m# H=nx.grid_2d_graph(4,5)\u001b[39;00m\n\u001b[1;32m      9\u001b[0m H \u001b[38;5;241m=\u001b[39m nx\u001b[38;5;241m.\u001b[39mcycle_graph(\u001b[38;5;241m20\u001b[39m)\n",
      "\u001b[0;31mModuleNotFoundError\u001b[0m: No module named 'mayavi'"
     ]
    }
   ],
   "source": [
    "import networkx as nx\n",
    "import numpy as np\n",
    "from mayavi import mlab\n",
    "\n",
    "# some graphs to try\n",
    "# H=nx.krackhardt_kite_graph()\n",
    "# H=nx.Graph();H.add_edge('a','b');H.add_edge('a','c');H.add_edge('a','d')\n",
    "# H=nx.grid_2d_graph(4,5)\n",
    "H = nx.cycle_graph(20)\n",
    "\n",
    "# reorder nodes from 0,len(G)-1\n",
    "G = nx.convert_node_labels_to_integers(H)\n",
    "# 3d spring layout\n",
    "pos = nx.spring_layout(G, dim=3, seed=1001)\n",
    "# numpy array of x,y,z positions in sorted node order\n",
    "xyz = np.array([pos[v] for v in sorted(G)])\n",
    "# scalar colors\n",
    "scalars = np.array(list(G.nodes())) + 5\n",
    "\n",
    "mlab.figure()\n",
    "\n",
    "pts = mlab.points3d(\n",
    "    xyz[:, 0],\n",
    "    xyz[:, 1],\n",
    "    xyz[:, 2],\n",
    "    scalars,\n",
    "    scale_factor=0.1,\n",
    "    scale_mode=\"none\",\n",
    "    colormap=\"Blues\",\n",
    "    resolution=20,\n",
    ")\n",
    "\n",
    "pts.mlab_source.dataset.lines = np.array(list(G.edges()))\n",
    "tube = mlab.pipeline.tube(pts, tube_radius=0.01)\n",
    "mlab.pipeline.surface(tube, color=(0.8, 0.8, 0.8))\n",
    "mlab.orientation_axes()"
   ]
  },
  {
   "cell_type": "code",
   "execution_count": 23,
   "id": "18bae153-12a9-4e0d-bfc1-b210a8c89f76",
   "metadata": {},
   "outputs": [],
   "source": [
    "#create the graphs\n",
    "#sampleDraw is created for the subgraphs' visualization\n",
    "graph_fly=nx.DiGraph()\n",
    "graph_fly.clear()\n",
    "graph_sworm=nx.DiGraph()\n",
    "graph_sworm.clear()\n",
    "graph_fly_sampleDraw=nx.DiGraph()\n",
    "graph_fly_sampleDraw.clear()\n",
    "graph_sworm_sampleDraw=nx.DiGraph()\n",
    "graph_sworm_sampleDraw.clear()"
   ]
  },
  {
   "cell_type": "code",
   "execution_count": 24,
   "id": "3696b752-a9e0-4052-9c9b-73a6382f5701",
   "metadata": {},
   "outputs": [],
   "source": [
    "#import the data\n",
    "#data source: https://www.inetbio.org/wormnet/downloadnetwork.php\n",
    "file_fly = pd.read_csv(join(data_dir, \"DM-HT.txt\"), sep=\"\\t\",header=None)\n",
    "file_sworm = pd.read_csv(join(data_dir, \"CE-HT.txt\"), sep=\"\\t\",header=None)\n",
    "file_fly_sampleDraw=file_fly.head(5)\n",
    "file_sworm_sampleDraw=file_sworm.head(5)"
   ]
  },
  {
   "cell_type": "code",
   "execution_count": 25,
   "id": "27ad5f24-c967-41a3-9311-0a48b913a2a0",
   "metadata": {},
   "outputs": [
    {
     "data": {
      "text/html": [
       "<div>\n",
       "<style scoped>\n",
       "    .dataframe tbody tr th:only-of-type {\n",
       "        vertical-align: middle;\n",
       "    }\n",
       "\n",
       "    .dataframe tbody tr th {\n",
       "        vertical-align: top;\n",
       "    }\n",
       "\n",
       "    .dataframe thead th {\n",
       "        text-align: right;\n",
       "    }\n",
       "</style>\n",
       "<table border=\"1\" class=\"dataframe\">\n",
       "  <thead>\n",
       "    <tr style=\"text-align: right;\">\n",
       "      <th></th>\n",
       "      <th>0</th>\n",
       "      <th>1</th>\n",
       "      <th>2</th>\n",
       "    </tr>\n",
       "  </thead>\n",
       "  <tbody>\n",
       "    <tr>\n",
       "      <th>0</th>\n",
       "      <td>4R79.2</td>\n",
       "      <td>F33A8.4</td>\n",
       "      <td>2.053510</td>\n",
       "    </tr>\n",
       "    <tr>\n",
       "      <th>1</th>\n",
       "      <td>4R79.2</td>\n",
       "      <td>K08E4.1</td>\n",
       "      <td>1.718166</td>\n",
       "    </tr>\n",
       "    <tr>\n",
       "      <th>2</th>\n",
       "      <td>4R79.2</td>\n",
       "      <td>Y37E3.9</td>\n",
       "      <td>2.053510</td>\n",
       "    </tr>\n",
       "    <tr>\n",
       "      <th>3</th>\n",
       "      <td>4R79.2</td>\n",
       "      <td>Y59A8B.1</td>\n",
       "      <td>2.038247</td>\n",
       "    </tr>\n",
       "    <tr>\n",
       "      <th>4</th>\n",
       "      <td>AC3.2</td>\n",
       "      <td>C55A6.10</td>\n",
       "      <td>1.453145</td>\n",
       "    </tr>\n",
       "  </tbody>\n",
       "</table>\n",
       "</div>"
      ],
      "text/plain": [
       "        0         1         2\n",
       "0  4R79.2   F33A8.4  2.053510\n",
       "1  4R79.2   K08E4.1  1.718166\n",
       "2  4R79.2   Y37E3.9  2.053510\n",
       "3  4R79.2  Y59A8B.1  2.038247\n",
       "4   AC3.2  C55A6.10  1.453145"
      ]
     },
     "execution_count": 25,
     "metadata": {},
     "output_type": "execute_result"
    }
   ],
   "source": [
    "file_fly_sampleDraw"
   ]
  },
  {
   "cell_type": "code",
   "execution_count": 26,
   "id": "17e8a564-f629-484d-9d76-b7eb9920f2f6",
   "metadata": {},
   "outputs": [],
   "source": [
    "#add data into directed graphs with weights\n",
    "for row in file_fly.iterrows():\n",
    "    graph_fly.add_edge(row[1][0],row[1][1],weight=row[1][2])\n",
    "for row in file_sworm.iterrows():\n",
    "    graph_sworm.add_edge(row[1][0],row[1][1],weight=row[1][2])\n",
    "for row in file_fly_sampleDraw.iterrows():\n",
    "    graph_fly_sampleDraw.add_edge(row[1][0],row[1][1],weight=round(float(row[1][2]),2))\n",
    "for row in file_sworm_sampleDraw.iterrows():\n",
    "    graph_sworm_sampleDraw.add_edge(row[1][0],row[1][1],weight=row[1][2])"
   ]
  },
  {
   "cell_type": "code",
   "execution_count": 27,
   "id": "d425006c-de83-442e-b351-1d415c81f9ed",
   "metadata": {},
   "outputs": [
    {
     "data": {
      "text/plain": [
       "{('4R79.2', 'F33A8.4'): Text(-0.12500000000000006, -0.3, '2.05'),\n",
       " ('4R79.2', 'K08E4.1'): Text(-0.65, 0.04999999999999999, '1.72'),\n",
       " ('4R79.2', 'Y37E3.9'): Text(-0.5625, -0.03749999999999999, '2.05'),\n",
       " ('4R79.2',\n",
       "  'Y59A8B.1'): Text(-0.47500000000000003, -0.12499999999999999, '2.04'),\n",
       " ('AC3.2',\n",
       "  'C55A6.10'): Text(0.31249999999999994, -0.03749999999999998, '1.45')}"
      ]
     },
     "execution_count": 27,
     "metadata": {},
     "output_type": "execute_result"
    },
    {
     "data": {
      "text/plain": [
       "(-1.2799999999999998, 1.0299999999999998, -0.412, 0.5119999999999999)"
      ]
     },
     "execution_count": 27,
     "metadata": {},
     "output_type": "execute_result"
    },
    {
     "data": {
      "text/plain": [
       "Text(0.5, 1.0, \"Subgraph of Flies' Protein-protien Interactions\")"
      ]
     },
     "execution_count": 27,
     "metadata": {},
     "output_type": "execute_result"
    },
    {
     "data": {
      "image/png": "[encoded data removed]",
      "text/plain": [
       "<Figure size 640x480 with 1 Axes>"
      ]
     },
     "metadata": {},
     "output_type": "display_data"
    }
   ],
   "source": [
    "#draw the sample subgraph in matplotlib\n",
    "pos=nx.planar_layout(graph_fly_sampleDraw)\n",
    "labels = nx.get_edge_attributes(graph_fly_sampleDraw,'weight')\n",
    "nx.draw(graph_fly_sampleDraw,with_labels=True,pos=pos)\n",
    "nx.draw_networkx_edge_labels(graph_fly_sampleDraw,pos=pos,edge_labels=labels,verticalalignment=\"bottom\",font_size=10)\n",
    "ax = plt.gca()\n",
    "ax.margins(0.1)\n",
    "plt.axis(\"on\")\n",
    "plt.title(\"Subgraph of Flies' Protein-protien Interactions\")\n",
    "plt.show()"
   ]
  },
  {
   "cell_type": "markdown",
   "id": "930ae4bf-423c-4373-9a26-d5b20595bcbd",
   "metadata": {},
   "source": [
    "————————————————————————————————————\n",
    "**Graph algorithms**  \n",
    "references:\n",
    "https://networkx.org/documentation/networkx-1.10/reference/algorithms.centrality.html"
   ]
  },
  {
   "cell_type": "code",
   "execution_count": 28,
   "id": "6d534418-ca45-44fe-a8fd-583da6d94f9f",
   "metadata": {},
   "outputs": [
    {
     "data": {
      "text/plain": [
       "{'4R79.2': 0.6666666666666666,\n",
       " 'F33A8.4': 0.16666666666666666,\n",
       " 'K08E4.1': 0.16666666666666666,\n",
       " 'Y37E3.9': 0.16666666666666666,\n",
       " 'Y59A8B.1': 0.16666666666666666,\n",
       " 'AC3.2': 0.16666666666666666,\n",
       " 'C55A6.10': 0.16666666666666666}"
      ]
     },
     "execution_count": 28,
     "metadata": {},
     "output_type": "execute_result"
    }
   ],
   "source": [
    "nx.degree_centrality(graph_fly_sampleDraw)"
   ]
  },
  {
   "cell_type": "code",
   "execution_count": 29,
   "id": "a3b909f0-1734-48c9-8cff-001739d137bb",
   "metadata": {},
   "outputs": [
    {
     "data": {
      "text/plain": [
       "{'4R79.2': 0.0,\n",
       " 'F33A8.4': 0.16666666666666666,\n",
       " 'K08E4.1': 0.16666666666666666,\n",
       " 'Y37E3.9': 0.16666666666666666,\n",
       " 'Y59A8B.1': 0.16666666666666666,\n",
       " 'AC3.2': 0.0,\n",
       " 'C55A6.10': 0.16666666666666666}"
      ]
     },
     "execution_count": 29,
     "metadata": {},
     "output_type": "execute_result"
    }
   ],
   "source": [
    "nx.in_degree_centrality(graph_fly_sampleDraw)"
   ]
  },
  {
   "cell_type": "code",
   "execution_count": 30,
   "id": "68f93332-bb6f-49f6-8915-280c864130fa",
   "metadata": {},
   "outputs": [
    {
     "data": {
      "text/plain": [
       "{'4R79.2': 0.0,\n",
       " 'F33A8.4': 0.0,\n",
       " 'K08E4.1': 0.0,\n",
       " 'Y37E3.9': 0.0,\n",
       " 'Y59A8B.1': 0.0,\n",
       " 'AC3.2': 0.0,\n",
       " 'C55A6.10': 0.0}"
      ]
     },
     "execution_count": 30,
     "metadata": {},
     "output_type": "execute_result"
    }
   ],
   "source": [
    "nx.betweenness_centrality(graph_fly_sampleDraw)"
   ]
  },
  {
   "cell_type": "code",
   "execution_count": 31,
   "id": "dd95b6ef-bf99-446a-955b-317b13123340",
   "metadata": {},
   "outputs": [],
   "source": [
    "#nx.current_flow_betweenness_centrality(graph_fly_sampleDraw)\n",
    "#for undirected graphs only"
   ]
  },
  {
   "cell_type": "code",
   "execution_count": 32,
   "id": "328e1db6-36ef-4574-bf94-25fa9a139ea0",
   "metadata": {},
   "outputs": [
    {
     "data": {
      "text/plain": [
       "{'4R79.2': 0.0,\n",
       " 'F33A8.4': 0.16666666666666666,\n",
       " 'K08E4.1': 0.16666666666666666,\n",
       " 'Y37E3.9': 0.16666666666666666,\n",
       " 'Y59A8B.1': 0.16666666666666666,\n",
       " 'AC3.2': 0.0,\n",
       " 'C55A6.10': 0.16666666666666666}"
      ]
     },
     "execution_count": 32,
     "metadata": {},
     "output_type": "execute_result"
    }
   ],
   "source": [
    "nx.closeness_centrality(graph_fly_sampleDraw)"
   ]
  },
  {
   "cell_type": "code",
   "execution_count": 33,
   "id": "92f4800d-bf56-4519-82e4-bb08408cea08",
   "metadata": {},
   "outputs": [],
   "source": [
    "# nx.eigenvector_centrality(graph_fly_sampleDraw)\n",
    "# for connected graphs only"
   ]
  },
  {
   "cell_type": "code",
   "execution_count": 34,
   "id": "fff395a4-2918-44ba-b5c7-5933f00b9d3f",
   "metadata": {},
   "outputs": [],
   "source": [
    "#nx.current_flow_closeness_centrality(graph_fly_sampleDraw)\n",
    "#for undirected graphs only"
   ]
  },
  {
   "cell_type": "code",
   "execution_count": 35,
   "id": "ee6c9d52-3f85-48ec-a5b0-aecdbd743545",
   "metadata": {},
   "outputs": [],
   "source": [
    "#nx.communicability(graph_fly_sampleDraw)\n",
    "#for undirected graphs only"
   ]
  },
  {
   "cell_type": "code",
   "execution_count": 36,
   "id": "a8710800-fc5c-4f67-a5d2-fcd5f7b716cc",
   "metadata": {},
   "outputs": [
    {
     "data": {
      "text/plain": [
       "{'4R79.2': 0.0,\n",
       " 'F33A8.4': 0.0,\n",
       " 'K08E4.1': 0.0,\n",
       " 'Y37E3.9': 0.0,\n",
       " 'Y59A8B.1': 0.0,\n",
       " 'AC3.2': 0.0,\n",
       " 'C55A6.10': 0.0}"
      ]
     },
     "execution_count": 36,
     "metadata": {},
     "output_type": "execute_result"
    }
   ],
   "source": [
    "nx.load_centrality(graph_fly_sampleDraw)"
   ]
  },
  {
   "cell_type": "code",
   "execution_count": null,
   "id": "abebc5a5",
   "metadata": {},
   "outputs": [],
   "source": []
  }
 ],
 "metadata": {
  "kernelspec": {
   "display_name": "Python 3 (ipykernel)",
   "language": "python",
   "name": "python3"
  },
  "language_info": {
   "codemirror_mode": {
    "name": "ipython",
    "version": 3
   },
   "file_extension": ".py",
   "mimetype": "text/x-python",
   "name": "python",
   "nbconvert_exporter": "python",
   "pygments_lexer": "ipython3",
   "version": "3.10.4"
  },
  "vscode": {
   "interpreter": {
    "hash": "302ae96be06011f85048f8d172163035fb29e7c23cfa7ae7e48a07bd12d24630"
   }
  }
 },
 "nbformat": 4,
 "nbformat_minor": 5
}
