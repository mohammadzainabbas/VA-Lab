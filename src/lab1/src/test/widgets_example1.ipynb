{
 "cells": [
  {
   "cell_type": "code",
   "execution_count": 9,
   "id": "8477c89f-d8b1-48a2-a44e-ad2a4b41ae6e",
   "metadata": {},
   "outputs": [],
   "source": [
    "from os.path import join, exists, isfile, isdir, abspath, dirname, basename, realpath\n",
    "from os import makedirs, listdir, pardir, getcwd\n",
    "\n",
    "import ipywidgets as widgets\n",
    "from ipywidgets import interact, interactive, fixed, interact_manual, Dropdown, Text, GridBox, VBox, HBox, Accordion, BoundedIntText, Checkbox, Layout, IntProgress, Tab, Image, Button\n",
    "from IPython.display import display, Javascript\n",
    "\n",
    "from IPython.core.interactiveshell import InteractiveShell\n",
    "InteractiveShell.ast_node_interactivity = \"all\""
   ]
  },
  {
   "cell_type": "code",
   "execution_count": 10,
   "id": "942890ed",
   "metadata": {},
   "outputs": [],
   "source": [
    "parent_dir = abspath(join(join(getcwd(), pardir), pardir))\n",
    "data_dir = join(parent_dir, 'data')"
   ]
  },
  {
   "cell_type": "code",
   "execution_count": 11,
   "id": "50e10c6d",
   "metadata": {},
   "outputs": [],
   "source": [
    "data_files = [x for x in listdir(data_dir) if isfile(join(data_dir, x))]\n",
    "algos = ['betweenness', 'eigen']\n",
    "no_of_algo=3\n",
    "show_algo_comparsion=True\n",
    "show_dataset_comparsion=False\n",
    "show_verbose=False"
   ]
  },
  {
   "cell_type": "code",
   "execution_count": 12,
   "id": "02951b07",
   "metadata": {},
   "outputs": [],
   "source": [
    "# Interactive Widget component(s)\n",
    "\n",
    "w_dataset = Dropdown(options=data_files, value=data_files[0], description='Dataset ', disabled=False)\n",
    "w_algo_list = Dropdown(options=algos, value=algos[0], description='Algorihtm ', disabled=False)\n",
    "# w_algo = BoundedIntText(value=no_of_algo, description='Total algo ', min=1, max=5, step=1, disabled=False)\n",
    "\n",
    "w_show_algo_comparsion = Checkbox(value=show_algo_comparsion, description='Show Algo. Comparsion', disabled=False)\n",
    "w_show_dataset_comparsion = Checkbox(value=show_dataset_comparsion, description='Show Dataset Comparsion', disabled=False)\n",
    "w_show_verbose = Checkbox(value=show_verbose, description='Show Verbose', disabled=False)"
   ]
  },
  {
   "cell_type": "code",
   "execution_count": 13,
   "id": "4c85a758",
   "metadata": {},
   "outputs": [],
   "source": [
    "# # Disable \"Rename df.columns\" when \"Show logs\" is selected\n",
    "\n",
    "# def disable_rename(x):\n",
    "#     w_rename_columns.disabled = w_show_logs.value\n",
    "#     w_show_intra_day.disabled = w_show_logs.value\n",
    "#     w_show_term_behavior_plot.disabled = w_show_logs.value\n",
    "#     w_rename_columns.value = not w_show_logs.value\n",
    "    \n",
    "# w_show_logs.observe(disable_rename, 'value')"
   ]
  },
  {
   "cell_type": "code",
   "execution_count": 14,
   "id": "e7f4c1bf-19c9-48a7-8dc5-af5cdb1833f6",
   "metadata": {},
   "outputs": [],
   "source": [
    "# List of all component(s) that needs to be displayed\n",
    "\n",
    "meta_data = [ w_dataset, w_algo_list, w_show_algo_comparsion, w_show_dataset_comparsion, w_show_verbose ]"
   ]
  },
  {
   "cell_type": "code",
   "execution_count": 16,
   "id": "9c45346c-d23e-41aa-8377-e87c2c593495",
   "metadata": {},
   "outputs": [
    {
     "data": {
      "application/vnd.jupyter.widget-view+json": {
       "model_id": "89f97f722f05490cb8b1ab67e9f44882",
       "version_major": 2,
       "version_minor": 0
      },
      "text/plain": [
       "GridBox(children=(Dropdown(description='Dataset ', options=('DM-HT.txt', 'CE-HT.txt'), value='DM-HT.txt'), Dro…"
      ]
     },
     "execution_count": 16,
     "metadata": {},
     "output_type": "execute_result"
    }
   ],
   "source": [
    "GridBox(meta_data, layout=Layout(grid_template_columns=\"repeat(3, 33.34%)\"))"
   ]
  },
  {
   "cell_type": "code",
   "execution_count": 18,
   "id": "abebc5a5",
   "metadata": {},
   "outputs": [
    {
     "data": {
      "text/plain": [
       "[Dropdown(description='Dataset ', options=('DM-HT.txt', 'CE-HT.txt'), value='DM-HT.txt'),\n",
       " Dropdown(description='Algorihtm ', options=('betweenness', 'eigen'), value='betweenness'),\n",
       " Checkbox(value=True, description='Show Algo. Comparsion'),\n",
       " Checkbox(value=False, description='Show Dataset Comparsion'),\n",
       " Checkbox(value=False, description='Show Verbose')]"
      ]
     },
     "execution_count": 18,
     "metadata": {},
     "output_type": "execute_result"
    }
   ],
   "source": [
    "for"
   ]
  },
  {
   "cell_type": "code",
   "execution_count": null,
   "id": "1a11c4aa",
   "metadata": {},
   "outputs": [],
   "source": []
  }
 ],
 "metadata": {
  "kernelspec": {
   "display_name": "Python 3.10.4 ('mgma')",
   "language": "python",
   "name": "python3"
  },
  "language_info": {
   "codemirror_mode": {
    "name": "ipython",
    "version": 3
   },
   "file_extension": ".py",
   "mimetype": "text/x-python",
   "name": "python",
   "nbconvert_exporter": "python",
   "pygments_lexer": "ipython3",
   "version": "3.10.4"
  },
  "vscode": {
   "interpreter": {
    "hash": "302ae96be06011f85048f8d172163035fb29e7c23cfa7ae7e48a07bd12d24630"
   }
  }
 },
 "nbformat": 4,
 "nbformat_minor": 5
}
